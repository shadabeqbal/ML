{
 "cells": [
  {
   "cell_type": "code",
   "execution_count": 2,
   "metadata": {},
   "outputs": [
    {
     "name": "stdout",
     "output_type": "stream",
     "text": [
      "['False', 'None', 'True', 'and', 'as', 'assert', 'async', 'await', 'break', 'class', 'continue', 'def', 'del', 'elif', 'else', 'except', 'finally', 'for', 'from', 'global', 'if', 'import', 'in', 'is', 'lambda', 'nonlocal', 'not', 'or', 'pass', 'raise', 'return', 'try', 'while', 'with', 'yield']\n",
      "\n",
      "Total number of keywords:  35\n"
     ]
    }
   ],
   "source": [
    "import keyword\n",
    "print(keyword.kwlist)\n",
    "print(\"\\nTotal number of keywords: \",len(keyword.kwlist))"
   ]
  },
  {
   "cell_type": "code",
   "execution_count": 2,
   "metadata": {},
   "outputs": [
    {
     "name": "stdout",
     "output_type": "stream",
     "text": [
      "9752192\n"
     ]
    }
   ],
   "source": [
    "x=3\n",
    "print(id(x)) #print address of memory location x"
   ]
  },
  {
   "cell_type": "code",
   "execution_count": 5,
   "metadata": {},
   "outputs": [
    {
     "name": "stdout",
     "output_type": "stream",
     "text": [
      "<class 'int'> <class 'float'> <class 'str'>\n"
     ]
    }
   ],
   "source": [
    "a=5\n",
    "b=5.5\n",
    "c=\"str\"\n",
    "print(type(a),type(b),type(c)) #show datatype of variable"
   ]
  },
  {
   "cell_type": "code",
   "execution_count": 6,
   "metadata": {},
   "outputs": [
    {
     "name": "stdout",
     "output_type": "stream",
     "text": [
      "True\n"
     ]
    }
   ],
   "source": [
    "a=1+2j\n",
    "print(isinstance(a,complex)) #check if a variable belongs to a particular datatype"
   ]
  },
  {
   "cell_type": "code",
   "execution_count": 11,
   "metadata": {},
   "outputs": [
    {
     "name": "stdout",
     "output_type": "stream",
     "text": [
      "d\n",
      "World\n",
      "dlroW olleH\n"
     ]
    }
   ],
   "source": [
    "s = \"Hello World\"\n",
    "print(s[-1]) #print from last character\n",
    "print(s[6:]) #Slicing print from 6 to last\n",
    "print(s[::-1]) #reverse a string"
   ]
  },
  {
   "cell_type": "code",
   "execution_count": 12,
   "metadata": {},
   "outputs": [
    {
     "name": "stdout",
     "output_type": "stream",
     "text": [
      "20.5\n"
     ]
    }
   ],
   "source": [
    "a = [10,20.5,\"Hello\"] #List are mutable\n",
    "print(a[1]) #print 1st index of list"
   ]
  },
  {
   "cell_type": "code",
   "execution_count": 14,
   "metadata": {},
   "outputs": [
    {
     "name": "stdout",
     "output_type": "stream",
     "text": [
      "Hello\n"
     ]
    }
   ],
   "source": [
    "t=(1,1.5,\"Hello\") #tuple are immutable\n",
    "print(t[2])"
   ]
  },
  {
   "cell_type": "code",
   "execution_count": 19,
   "metadata": {},
   "outputs": [
    {
     "name": "stdout",
     "output_type": "stream",
     "text": [
      "{10, 20, 5, 30}\n"
     ]
    }
   ],
   "source": [
    "a = {10,20,30,5,10} #sets unique items but unordered\n",
    "print(a) #sets does not support indexing"
   ]
  },
  {
   "cell_type": "code",
   "execution_count": 21,
   "metadata": {},
   "outputs": [
    {
     "name": "stdout",
     "output_type": "stream",
     "text": [
      "apple\n"
     ]
    }
   ],
   "source": [
    "d =  {'a':\"apple\",'b':\"bat\"} #dictionary key-value pair like hash map\n",
    "print(d['a']) #given key we get value corresponding to the key"
   ]
  },
  {
   "cell_type": "code",
   "execution_count": 28,
   "metadata": {},
   "outputs": [
    {
     "name": "stdout",
     "output_type": "stream",
     "text": [
      "<class 'int'>\n",
      "<class 'float'>\n",
      "<class 'str'>\n",
      "<class 'list'>\n",
      "<class 'set'>\n",
      "<class 'list'>\n",
      "['H', 'e', 'l', 'l', 'o']\n"
     ]
    }
   ],
   "source": [
    "a = 5\n",
    "print(type(a))\n",
    "a=float(a) #datatype conversion from int to float\n",
    "print(type(a))\n",
    "a= str(a) #datatype conversion from float to string\n",
    "print(type(a))\n",
    "b=[1,2,3]\n",
    "print(type(b))\n",
    "b=set(b)\n",
    "print(type(b))\n",
    "b=list(b)\n",
    "print(type(b))\n",
    "c = list(\"Hello\")\n",
    "print(c)"
   ]
  },
  {
   "cell_type": "code",
   "execution_count": 32,
   "metadata": {},
   "outputs": [
    {
     "name": "stdout",
     "output_type": "stream",
     "text": [
      "a=10,b=20\n"
     ]
    }
   ],
   "source": [
    "a=10;b=20\n",
    "print(\"a={},b={}\".format(a,b))"
   ]
  },
  {
   "cell_type": "code",
   "execution_count": 39,
   "metadata": {},
   "outputs": [
    {
     "name": "stdout",
     "output_type": "stream",
     "text": [
      "True\n"
     ]
    }
   ],
   "source": [
    "a=5\n",
    "b=5\n",
    "print(a is b) #a and b is stored in same memory location."
   ]
  },
  {
   "cell_type": "code",
   "execution_count": 40,
   "metadata": {},
   "outputs": [
    {
     "name": "stdout",
     "output_type": "stream",
     "text": [
      "False\n"
     ]
    }
   ],
   "source": [
    "l1 = [1,2,3]\n",
    "l2 = [1,2,3]\n",
    "print(l1 is l2) #list stored in different memory location."
   ]
  },
  {
   "cell_type": "code",
   "execution_count": 43,
   "metadata": {},
   "outputs": [
    {
     "name": "stdout",
     "output_type": "stream",
     "text": [
      "True\n"
     ]
    }
   ],
   "source": [
    "s1=\"Hello\"\n",
    "s2=\"Hello\"\n",
    "print(s1 is not s2)  #string stored in same memory location"
   ]
  },
  {
   "cell_type": "code",
   "execution_count": 44,
   "metadata": {},
   "outputs": [
    {
     "name": "stdout",
     "output_type": "stream",
     "text": [
      "True\n"
     ]
    }
   ],
   "source": [
    "lst = [1,2,3,4]\n",
    "print(1 in lst) #check whether number 1 is present in the list."
   ]
  },
  {
   "cell_type": "code",
   "execution_count": 48,
   "metadata": {},
   "outputs": [
    {
     "name": "stdout",
     "output_type": "stream",
     "text": [
      "True\n"
     ]
    }
   ],
   "source": [
    "d = {1:\"a\",2:\"b\"}\n",
    "print(1 in d) #check whether key is present in dictionary or not."
   ]
  },
  {
   "cell_type": "code",
   "execution_count": 51,
   "metadata": {},
   "outputs": [
    {
     "name": "stdout",
     "output_type": "stream",
     "text": [
      "[12, 3, 4, 6, 32]\n",
      "[12, 3, 7, 4, 6, 32]\n",
      "[12, 3, 7, 4, 6]\n"
     ]
    }
   ],
   "source": [
    "lst = [12,3,4,6]\n",
    "lst.append(32) # append 32 at last of the list\n",
    "print(lst)\n",
    "lst.insert(2,7) #insert 7 at location 2\n",
    "print(lst)\n",
    "lst.remove(32) #remove first occurence of item from list\n",
    "print(lst)\n"
   ]
  },
  {
   "cell_type": "code",
   "execution_count": 52,
   "metadata": {},
   "outputs": [
    {
     "name": "stdout",
     "output_type": "stream",
     "text": [
      "[1, 2, 3, [4, 5]]\n"
     ]
    }
   ],
   "source": [
    "lst = [1,2,3]\n",
    "lst2 = [4,5]\n",
    "lst.append(lst2) #add complete list to the list\n",
    "print(lst)"
   ]
  },
  {
   "cell_type": "code",
   "execution_count": 53,
   "metadata": {},
   "outputs": [
    {
     "name": "stdout",
     "output_type": "stream",
     "text": [
      "[1, 2, 3, 4, 5]\n"
     ]
    }
   ],
   "source": [
    "lst = [1,2,3]\n",
    "lst2 = [4,5]\n",
    "lst.extend(lst2) # add list as elements\n",
    "print(lst)"
   ]
  },
  {
   "cell_type": "code",
   "execution_count": 55,
   "metadata": {},
   "outputs": [
    {
     "name": "stdout",
     "output_type": "stream",
     "text": [
      "['one', 'three', 'four']\n",
      "three\n",
      "['one', 'four']\n"
     ]
    }
   ],
   "source": [
    "lst = ['one','two','three','four']\n",
    "del lst[1] #remove items from list\n",
    "print(lst)\n",
    "a = lst.pop(1) #remove item and return it\n",
    "print(a)\n",
    "print(lst)"
   ]
  },
  {
   "cell_type": "code",
   "execution_count": 56,
   "metadata": {},
   "outputs": [
    {
     "name": "stdout",
     "output_type": "stream",
     "text": [
      "['three', 'two', 'one']\n"
     ]
    }
   ],
   "source": [
    "lst = ['one','two','three']\n",
    "lst.reverse()\n",
    "print(lst)"
   ]
  },
  {
   "cell_type": "code",
   "execution_count": 58,
   "metadata": {},
   "outputs": [
    {
     "name": "stdout",
     "output_type": "stream",
     "text": [
      "[3, 1, 6, 2, 8]\n",
      "[1, 2, 3, 6, 8]\n",
      "[8, 6, 3, 2, 1]\n"
     ]
    }
   ],
   "source": [
    "nums = [3,1,6,2,8]\n",
    "sorted_nums = sorted(nums) #sort and store in new list\n",
    "print(nums)\n",
    "print(sorted_nums)\n",
    "sorted_nums_rev = sorted(nums,reverse=True) #Sort in reverse order and store in the new list\n",
    "print(sorted_nums_rev)"
   ]
  },
  {
   "cell_type": "code",
   "execution_count": 59,
   "metadata": {},
   "outputs": [
    {
     "name": "stdout",
     "output_type": "stream",
     "text": [
      "[1, 2, 4.2, 5]\n"
     ]
    }
   ],
   "source": [
    "lst = [1,2,5,4.2]\n",
    "lst.sort() #sort and keep in same list\n",
    "print(lst)"
   ]
  },
  {
   "cell_type": "code",
   "execution_count": 61,
   "metadata": {},
   "outputs": [
    {
     "name": "stdout",
     "output_type": "stream",
     "text": [
      "[1, 2, 3, 4, 5, 6]\n"
     ]
    }
   ],
   "source": [
    "lst = [1,2,3,4,5]\n",
    "abc = lst # 'lst' and 'abc' are poiting to same memory locations\n",
    "abc.append(6)\n",
    "\n",
    "print(lst)"
   ]
  },
  {
   "cell_type": "code",
   "execution_count": 62,
   "metadata": {},
   "outputs": [
    {
     "name": "stdout",
     "output_type": "stream",
     "text": [
      "['one', 'two', 'three', 'four']\n"
     ]
    }
   ],
   "source": [
    "s = \"one,two,three,four\"\n",
    "lst = s.split(',')\n",
    "print(lst)"
   ]
  },
  {
   "cell_type": "code",
   "execution_count": 63,
   "metadata": {},
   "outputs": [
    {
     "name": "stdout",
     "output_type": "stream",
     "text": [
      "4\n"
     ]
    }
   ],
   "source": [
    "num = [1,2,3,12,1,1,4,1]\n",
    "print(num.count(1)) #count the number of occurences of item."
   ]
  },
  {
   "cell_type": "code",
   "execution_count": 64,
   "metadata": {},
   "outputs": [
    {
     "name": "stdout",
     "output_type": "stream",
     "text": [
      "[0, 1, 4, 9, 16, 25, 36, 49, 64, 81]\n"
     ]
    }
   ],
   "source": [
    "#without using list comprehension\n",
    "squares = []\n",
    "for i in range(10):\n",
    "    squares.append(i**2)\n",
    "print(squares)"
   ]
  },
  {
   "cell_type": "code",
   "execution_count": 65,
   "metadata": {},
   "outputs": [
    {
     "name": "stdout",
     "output_type": "stream",
     "text": [
      "[0, 1, 4, 9, 16, 25, 36, 49, 64, 81]\n"
     ]
    }
   ],
   "source": [
    "#with list comprehension\n",
    "squares = [i**2 for i in range(10)]\n",
    "print(squares)"
   ]
  },
  {
   "cell_type": "code",
   "execution_count": 68,
   "metadata": {},
   "outputs": [
    {
     "name": "stdout",
     "output_type": "stream",
     "text": [
      "[-20, -40, 20, 40, 100]\n",
      "[20, 40, 100]\n",
      "[(0, 0), (1, 1), (2, 4), (3, 9), (4, 16), (5, 25), (6, 36), (7, 49), (8, 64), (9, 81)]\n"
     ]
    }
   ],
   "source": [
    "#example\n",
    "lst = [-10,-20,10,20,50]\n",
    "new_lst = [i*2 for i in lst]\n",
    "print(new_lst)\n",
    "\n",
    "new_lst = [i for i in new_lst if i>= 0]\n",
    "print(new_lst)\n",
    "\n",
    "new_lst = [(i,i**2) for i in range(10)]\n",
    "print(new_lst)"
   ]
  },
  {
   "cell_type": "code",
   "execution_count": 85,
   "metadata": {},
   "outputs": [
    {
     "name": "stdout",
     "output_type": "stream",
     "text": [
      "1\n",
      "3\n",
      "8\n",
      "1\n",
      "29\n",
      "[1, 2, 3, 4, 5, 6, 8]\n"
     ]
    }
   ],
   "source": [
    "#Tuples is immutable\n",
    "t = (8,1,2,3,4,5,6) #we cannot change or delete single element from tuple\n",
    "\n",
    "print(t.count(1)) #count number of element\n",
    "print(t.index(3)) #returns index of first occurence of item.\n",
    "print(max(t)) #maximum element in tuple\n",
    "print(min(t)) #minimum element in tuple\n",
    "print(sum(t)) #sum up the entire tuple element\n",
    "new_t = sorted(t)\n",
    "print(new_t)\n",
    "\n",
    "del t #delete entire tuple"
   ]
  },
  {
   "cell_type": "code",
   "execution_count": 89,
   "metadata": {},
   "outputs": [
    {
     "name": "stdout",
     "output_type": "stream",
     "text": [
      "{1, 2, 3}\n",
      "{1, 2, 3, 4}\n"
     ]
    }
   ],
   "source": [
    "#set of integers\n",
    "s = {1,2,3} #sets do not allow duplicate elements unordedred\n",
    "print(s)\n",
    "lst = [1,2,3,4]\n",
    "x=set(lst)\n",
    "print(x)\n",
    "x.add(5)\n",
    "print"
   ]
  },
  {
   "cell_type": "code",
   "execution_count": 1,
   "metadata": {},
   "outputs": [
    {
     "name": "stdout",
     "output_type": "stream",
     "text": [
      "<class 'set'>\n"
     ]
    }
   ],
   "source": [
    "s = set() #cannot be indexed\n",
    "print(type(s))"
   ]
  },
  {
   "cell_type": "code",
   "execution_count": 8,
   "metadata": {},
   "outputs": [
    {
     "name": "stdout",
     "output_type": "stream",
     "text": [
      "{2, 3, 4, 5, 8, 9}\n",
      "{2, 5, 8, 9}\n",
      "{2, 8, 9}\n",
      "set()\n"
     ]
    }
   ],
   "source": [
    "s.add(2) #add element\n",
    "s.update([4,5,3],{9,8}) #add multiple elements\n",
    "print(s)\n",
    "s.discard(4) # element 4 is removed {discard won't raise error if element not present}\n",
    "s.remove(3) # element 3 is removed {remove will raise error if element is not present}\n",
    "print(s)\n",
    "s.pop() #remove any element in random\n",
    "print(s)\n",
    "s.clear() #remove all the items in the set\n",
    "print(s)"
   ]
  },
  {
   "cell_type": "code",
   "execution_count": 17,
   "metadata": {},
   "outputs": [
    {
     "name": "stdout",
     "output_type": "stream",
     "text": [
      "{1, 2, 3, 4, 5, 6, 7}\n",
      "{1, 2, 3, 4, 5, 6, 7}\n",
      "{3, 4, 5}\n",
      "{3, 4, 5}\n",
      "{1, 2}\n",
      "{1, 2}\n",
      "{1, 2, 6, 7}\n",
      "{1, 2, 6, 7}\n",
      "False\n",
      "True\n"
     ]
    }
   ],
   "source": [
    "#set operations\n",
    "s1 = {1,2,3,4,5}\n",
    "s2 = {3,4,5,6,7}\n",
    "\n",
    "print(s1 | s2) # union of two sets can be done by | operator\n",
    "print(s1.union(s2)) #union of two sets\n",
    "\n",
    "print(s1 & s2) #intersection using & operator\n",
    "print(s1.intersection(s2)) #intersection\n",
    "\n",
    "print(s1 - s2) #set difference\n",
    "print(s1.difference(s2))  #set difference\n",
    "\n",
    "print(s1 ^ s2) #symmetric diffrence of two sets using ^ operator\n",
    "print(s1.symmetric_difference(s2)) #same\n",
    "\n",
    "x = {'a','b','c','d','e'}\n",
    "y = {'c','d'}\n",
    "print(x.issubset(y)) #checking set x is subset of set y\n",
    "print(y.issubset(x)) #checking set y is subset of set x"
   ]
  },
  {
   "cell_type": "code",
   "execution_count": 18,
   "metadata": {},
   "outputs": [],
   "source": [
    "#Frozen set is immutable set just like tuple and list\n",
    "s1 = frozenset([1,2,3,4])\n",
    "s2 = frozenset([2,4,5,6])\n",
    "\n",
    "#all sets operation are same except we cannot change it once initialized"
   ]
  },
  {
   "cell_type": "code",
   "execution_count": 32,
   "metadata": {},
   "outputs": [
    {
     "name": "stdout",
     "output_type": "stream",
     "text": [
      "['cat', 'rat']\n",
      "{1: 'apple', 2: 'bat', 3: ['cat', 'rat'], 4: 'orange'}\n",
      "orange\n",
      "{1: 'apple', 2: 'bat', 3: ['cat', 'rat']}\n",
      "{2: 'bat', 3: ['cat', 'rat']}\n",
      "{}\n"
     ]
    }
   ],
   "source": [
    "d = dict()\n",
    "d = {1:\"apple\",2:\"bat\",3:[\"cat\",\"rat\"]}\n",
    "print(d.get(3))\n",
    "d[4]=\"orange\" #insert value in dict\n",
    "print(d)\n",
    "print(d.pop(4)) #remove and return the value from dict\n",
    "print(d)\n",
    "\n",
    "del d[1]\n",
    "print(d)\n",
    "d.clear() #delete all elements from dict\n",
    "print(d)"
   ]
  },
  {
   "cell_type": "code",
   "execution_count": 38,
   "metadata": {},
   "outputs": [
    {
     "name": "stdout",
     "output_type": "stream",
     "text": [
      "140120635325760 140120635348736\n"
     ]
    }
   ],
   "source": [
    "squares = {2:4,3:9,4:16,5:25}\n",
    "new_dict = squares.copy() # copy one dict to other dict\n",
    "print(new_dict)"
   ]
  },
  {
   "cell_type": "code",
   "execution_count": 43,
   "metadata": {},
   "outputs": [
    {
     "name": "stdout",
     "output_type": "stream",
     "text": [
      "{'Math': 0, 'English': 0, 'Hindi': 0}\n",
      "dict_keys(['Math', 'English', 'Hindi'])\n",
      "dict_values([0, 0, 0])\n",
      "['__class__', '__contains__', '__delattr__', '__delitem__', '__dir__', '__doc__', '__eq__', '__format__', '__ge__', '__getattribute__', '__getitem__', '__gt__', '__hash__', '__init__', '__init_subclass__', '__iter__', '__le__', '__len__', '__lt__', '__ne__', '__new__', '__reduce__', '__reduce_ex__', '__repr__', '__reversed__', '__setattr__', '__setitem__', '__sizeof__', '__str__', '__subclasshook__', 'clear', 'copy', 'fromkeys', 'get', 'items', 'keys', 'pop', 'popitem', 'setdefault', 'update', 'values']\n"
     ]
    }
   ],
   "source": [
    "subjects = {}.fromkeys(['Math','English','Hindi'],0)\n",
    "print(subjects)\n",
    "print(subjects.keys())\n",
    "print(subjects.values())\n",
    "print(dir(subjects))"
   ]
  },
  {
   "cell_type": "code",
   "execution_count": 47,
   "metadata": {},
   "outputs": [
    {
     "name": "stdout",
     "output_type": "stream",
     "text": [
      "{('e', 5), ('a', 1), ('c', 3), ('b', 2), ('d', 4)}\n",
      "{'a': 2, 'b': 4, 'c': 6, 'd': 8, 'e': 10}\n"
     ]
    }
   ],
   "source": [
    "d = {'a':1,'b':2,'c':3,'d':4,'e':5}\n",
    "new_dict = {p for p in d.items()}\n",
    "print(new_dict)\n",
    "new_dict.clear()\n",
    "new_dict = {k:v*2 for k,v in d.items()}\n",
    "print(new_dict)"
   ]
  },
  {
   "cell_type": "code",
   "execution_count": 58,
   "metadata": {},
   "outputs": [
    {
     "name": "stdout",
     "output_type": "stream",
     "text": [
      "HelloWorld\n",
      "hello\n",
      "HELLO\n",
      "['Welcome', 'to', 'the', 'new', 'world']\n",
      "Welcome to the new world\n",
      "15\n",
      "Welcome to the real world\n"
     ]
    }
   ],
   "source": [
    "#strings are  immutable cannot change one character\n",
    "s = \"Hello\"\n",
    "t = \"World\"\n",
    "z = s+t #concatnate two strings\n",
    "print(z)\n",
    "del z #delete string variable\n",
    "\n",
    "print(s.lower()) #change to lowercase\n",
    "print(s.upper()) #change to uppercase\n",
    "\n",
    "s=\"Welcome to the new world\"\n",
    "print(s.split(\" \")) #split string if space encounters\n",
    "print(' '.join(s.split(\" \"))) #join split strings\n",
    "print(s.find(\"new\")) #find the string provided particular keyword\n",
    "print(s.replace(\"new\",\"real\")) #replace items old->new"
   ]
  },
  {
   "cell_type": "code",
   "execution_count": 72,
   "metadata": {},
   "outputs": [
    {
     "name": "stdout",
     "output_type": "stream",
     "text": [
      "Yes it is palindrome\n"
     ]
    }
   ],
   "source": [
    "#string to check palindrome\n",
    "myStr = \"MadaM\"\n",
    "myStr = myStr.lower()\n",
    "myStr_rev = reversed(myStr)\n",
    "\n",
    "if(list(myStr) == list(myStr_rev)):\n",
    "    print(\"Yes it is palindrome\")\n",
    "else:\n",
    "    print(\"No it is not a palidrome\")"
   ]
  },
  {
   "cell_type": "code",
   "execution_count": 74,
   "metadata": {},
   "outputs": [
    {
     "name": "stdout",
     "output_type": "stream",
     "text": [
      "alphabetical\n",
      "in\n",
      "order\n",
      "program\n",
      "python\n",
      "sort\n",
      "to\n",
      "word\n"
     ]
    }
   ],
   "source": [
    "#sorts string in alphabetical order\n",
    "mystr = \"python program to sort word in alphabetical order\"\n",
    "words = mystr.split()\n",
    "words.sort()\n",
    "for x in words:\n",
    "    print(x)"
   ]
  },
  {
   "cell_type": "code",
   "execution_count": null,
   "metadata": {},
   "outputs": [],
   "source": []
  }
 ],
 "metadata": {
  "kernelspec": {
   "display_name": "Python 3",
   "language": "python",
   "name": "python3"
  },
  "language_info": {
   "codemirror_mode": {
    "name": "ipython",
    "version": 3
   },
   "file_extension": ".py",
   "mimetype": "text/x-python",
   "name": "python",
   "nbconvert_exporter": "python",
   "pygments_lexer": "ipython3",
   "version": "3.8.3"
  }
 },
 "nbformat": 4,
 "nbformat_minor": 4
}
