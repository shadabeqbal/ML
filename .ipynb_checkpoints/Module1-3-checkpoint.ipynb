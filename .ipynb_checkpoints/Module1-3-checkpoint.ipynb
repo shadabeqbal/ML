{
 "cells": [
  {
   "cell_type": "code",
   "execution_count": 21,
   "metadata": {},
   "outputs": [
    {
     "name": "stdout",
     "output_type": "stream",
     "text": [
      "3.2\n",
      "98\n",
      "a\n"
     ]
    }
   ],
   "source": [
    "num = -3.2\n",
    "print(abs(num)) #convert negative to positive\n",
    "print(ord('b')) #print ascii value of a char\n",
    "print(chr(97)) #print char of a ascii value"
   ]
  },
  {
   "cell_type": "code",
   "execution_count": 6,
   "metadata": {},
   "outputs": [
    {
     "name": "stdout",
     "output_type": "stream",
     "text": [
      "True\n",
      "True\n"
     ]
    }
   ],
   "source": [
    "lst = [-1,1,2,3,4]\n",
    "print(all(lst)) #if all elements are non-zero then true else false\n",
    "lst = []\n",
    "print(all(lst)) #empty list return true"
   ]
  },
  {
   "cell_type": "code",
   "execution_count": 7,
   "metadata": {},
   "outputs": [
    {
     "name": "stdout",
     "output_type": "stream",
     "text": [
      "['__add__', '__class__', '__contains__', '__delattr__', '__delitem__', '__dir__', '__doc__', '__eq__', '__format__', '__ge__', '__getattribute__', '__getitem__', '__gt__', '__hash__', '__iadd__', '__imul__', '__init__', '__init_subclass__', '__iter__', '__le__', '__len__', '__lt__', '__mul__', '__ne__', '__new__', '__reduce__', '__reduce_ex__', '__repr__', '__reversed__', '__rmul__', '__setattr__', '__setitem__', '__sizeof__', '__str__', '__subclasshook__', 'append', 'clear', 'copy', 'count', 'extend', 'index', 'insert', 'pop', 'remove', 'reverse', 'sort']\n"
     ]
    }
   ],
   "source": [
    "nums = [1,2,3]\n",
    "print(dir(nums)) #dir shows all the functions associated with list datatype"
   ]
  },
  {
   "cell_type": "code",
   "execution_count": 8,
   "metadata": {},
   "outputs": [
    {
     "name": "stdout",
     "output_type": "stream",
     "text": [
      "(2, 1)\n"
     ]
    }
   ],
   "source": [
    "print(divmod(9,4)) #return quotient and remainder as tuples"
   ]
  },
  {
   "cell_type": "code",
   "execution_count": 14,
   "metadata": {},
   "outputs": [
    {
     "name": "stdout",
     "output_type": "stream",
     "text": [
      "Index 0 and Value 10\n",
      "Index 1 and Value 20\n",
      "Index 2 and Value 30\n",
      "Index 3 and Value 40\n",
      "====================\n",
      "Index 1 and Value 10\n",
      "Index 2 and Value 20\n",
      "Index 3 and Value 30\n",
      "Index 4 and Value 40\n"
     ]
    }
   ],
   "source": [
    "nums = [10,20,30,40]\n",
    "for i,val in enumerate(nums):\n",
    "    print(\"Index {0} and Value {1}\".format(i,val))\n",
    "print(\"====================\")\n",
    "for j,val in enumerate(nums,1):\n",
    "    print(\"Index {0} and Value {1}\".format(j,val))"
   ]
  },
  {
   "cell_type": "code",
   "execution_count": 18,
   "metadata": {},
   "outputs": [
    {
     "name": "stdout",
     "output_type": "stream",
     "text": [
      "[-10, -9, -8, -7, -6, -5, -4, -3, -2, -1, 0, 1, 2, 3, 4, 5, 6, 7, 8, 9]\n",
      "[1, 2, 3, 4, 5, 6, 7, 8, 9]\n"
     ]
    }
   ],
   "source": [
    "def foo(num):\n",
    "    if num > 0:\n",
    "        return num\n",
    "    \n",
    "new_lst = list(range(-10,10))\n",
    "print(new_lst)\n",
    "pos_lst = list(filter(foo,new_lst))\n",
    "print(pos_lst)"
   ]
  },
  {
   "cell_type": "code",
   "execution_count": 21,
   "metadata": {},
   "outputs": [
    {
     "name": "stdout",
     "output_type": "stream",
     "text": [
      "True\n"
     ]
    }
   ],
   "source": [
    "lst = [1,2,3,4]\n",
    "print(isinstance(lst,list))"
   ]
  },
  {
   "cell_type": "code",
   "execution_count": 22,
   "metadata": {},
   "outputs": [
    {
     "name": "stdout",
     "output_type": "stream",
     "text": [
      "[1, 4, 9, 16]\n"
     ]
    }
   ],
   "source": [
    "def powerofTwo(nums):\n",
    "    return nums**2\n",
    "\n",
    "lst = [1,2,3,4]\n",
    "square = []\n",
    "square = list(map(powerofTwo,lst)) #map(function_name,list)\n",
    "print(square)"
   ]
  },
  {
   "cell_type": "code",
   "execution_count": 24,
   "metadata": {},
   "outputs": [
    {
     "name": "stdout",
     "output_type": "stream",
     "text": [
      "24\n"
     ]
    }
   ],
   "source": [
    "#calcuate product of lst using reduce\n",
    "from functools import reduce\n",
    "def multiply(x,y):\n",
    "    return x*y\n",
    "\n",
    "lst = [1,2,3,4]\n",
    "print(reduce(multiply,lst)) #reduce the list to single element"
   ]
  },
  {
   "cell_type": "code",
   "execution_count": 38,
   "metadata": {},
   "outputs": [
    {
     "name": "stdout",
     "output_type": "stream",
     "text": [
      "[2, 4]\n",
      "[1, 4, 9, 16]\n",
      "24\n"
     ]
    }
   ],
   "source": [
    "#lambda is anonymous function without name\n",
    "\n",
    "lst = [1,2,3,4]\n",
    "print(list(filter(lambda x:x%2 == 0,lst)))\n",
    "print(list(map(lambda x:x**2,lst)))\n",
    "print(reduce(lambda x,y:x*y,lst))"
   ]
  },
  {
   "cell_type": "code",
   "execution_count": 9,
   "metadata": {},
   "outputs": [
    {
     "name": "stdout",
     "output_type": "stream",
     "text": [
      "Hell\n"
     ]
    },
    {
     "data": {
      "text/plain": [
       "['Hello World my name is shadab eqbal\\n',\n",
       " 'i am trying to learn machine learning']"
      ]
     },
     "execution_count": 9,
     "metadata": {},
     "output_type": "execute_result"
    }
   ],
   "source": [
    "f = open(\"file.txt\",'r')\n",
    "print(f.read(4)) #read first four character\n",
    "f.tell() #tell where the file pointer is currently at.\n",
    "f.seek(0) #move file pointer to initial point\n",
    "\n",
    "f.readline() #read one line \n",
    "f.seek(0)\n",
    "f.readlines() #read all the files untill EOF"
   ]
  },
  {
   "cell_type": "code",
   "execution_count": 15,
   "metadata": {},
   "outputs": [
    {
     "ename": "FileNotFoundError",
     "evalue": "[Errno 2] No such file or directory: 'file.txt' -> 'file.txt'",
     "output_type": "error",
     "traceback": [
      "\u001b[0;31m----------------------------------------------------------------------\u001b[0m",
      "\u001b[0;31mFileNotFoundError\u001b[0m                    Traceback (most recent call last)",
      "\u001b[0;32m<ipython-input-15-39cdeb501278>\u001b[0m in \u001b[0;36m<module>\u001b[0;34m\u001b[0m\n\u001b[1;32m      1\u001b[0m \u001b[0;32mimport\u001b[0m \u001b[0mos\u001b[0m\u001b[0;34m\u001b[0m\u001b[0;34m\u001b[0m\u001b[0m\n\u001b[0;32m----> 2\u001b[0;31m \u001b[0mos\u001b[0m\u001b[0;34m.\u001b[0m\u001b[0mrename\u001b[0m\u001b[0;34m(\u001b[0m\u001b[0;34m\"file.txt\"\u001b[0m\u001b[0;34m,\u001b[0m\u001b[0;34m\"file.txt\"\u001b[0m\u001b[0;34m)\u001b[0m  \u001b[0;31m#rename file\u001b[0m\u001b[0;34m\u001b[0m\u001b[0;34m\u001b[0m\u001b[0m\n\u001b[0m\u001b[1;32m      3\u001b[0m \u001b[0mos\u001b[0m\u001b[0;34m.\u001b[0m\u001b[0mremove\u001b[0m\u001b[0;34m(\u001b[0m\u001b[0;34m\"file.txt\"\u001b[0m\u001b[0;34m)\u001b[0m \u001b[0;31m#remove file\u001b[0m\u001b[0;34m\u001b[0m\u001b[0;34m\u001b[0m\u001b[0m\n",
      "\u001b[0;31mFileNotFoundError\u001b[0m: [Errno 2] No such file or directory: 'file.txt' -> 'file.txt'"
     ]
    }
   ],
   "source": [
    "import os\n",
    "os.rename(\"file.txt\",\"file.txt\")  #rename file\n",
    "os.remove(\"file.txt\") #remove file"
   ]
  },
  {
   "cell_type": "code",
   "execution_count": 17,
   "metadata": {},
   "outputs": [],
   "source": [
    "os.getcwd() #current working directory\n",
    "os.chdir(\"/home/se/Desktop/code/ML\") #change directory\n",
    "os.getcwd()\n",
    "os.listdir(os.getcwd()) #list all files and directory in current working directory\n",
    "os.mkdir(\"new\") #create new directory\n",
    "os.rmdir(\"new\") #remove an empty directory but cannot delete non empty directory"
   ]
  },
  {
   "cell_type": "code",
   "execution_count": 22,
   "metadata": {},
   "outputs": [
    {
     "name": "stdout",
     "output_type": "stream",
     "text": [
      "the entry is  b\n",
      "Oops! <class 'ValueError'> occured.\n",
      "the entry is  0\n",
      "Oops! <class 'ZeroDivisionError'> occured.\n",
      "the entry is  2\n",
      "the reciprocal of  2 is 0.5\n"
     ]
    }
   ],
   "source": [
    "import sys\n",
    "lst = ['b',0,2]\n",
    "for i in lst:\n",
    "    try:\n",
    "        print(\"the entry is \",i)\n",
    "        r=1/int(i)\n",
    "    except:\n",
    "        print(\"Oops!\",sys.exc_info()[0],\"occured.\")\n",
    "print(\"the reciprocal of \",i,\"is\",r)"
   ]
  },
  {
   "cell_type": "code",
   "execution_count": null,
   "metadata": {},
   "outputs": [
    {
     "name": "stdout",
     "output_type": "stream",
     "text": [
      "> <ipython-input-25-5f7e7bd279cd>(6)seq()\n",
      "-> print(i)\n",
      "(Pdb) h\n",
      "\n",
      "Documented commands (type help <topic>):\n",
      "========================================\n",
      "EOF    c          d        h         list      q        rv       undisplay\n",
      "a      cl         debug    help      ll        quit     s        unt      \n",
      "alias  clear      disable  ignore    longlist  r        source   until    \n",
      "args   commands   display  interact  n         restart  step     up       \n",
      "b      condition  down     j         next      return   tbreak   w        \n",
      "break  cont       enable   jump      p         retval   u        whatis   \n",
      "bt     continue   exit     l         pp        run      unalias  where    \n",
      "\n",
      "Miscellaneous help topics:\n",
      "==========================\n",
      "exec  pdb\n",
      "\n"
     ]
    }
   ],
   "source": [
    "import pdb #dubugging python code\n",
    "\n",
    "def seq(n):\n",
    "    for i in range(n):\n",
    "        pdb.set_trace() #breakpoint\n",
    "        print(i)\n",
    "    return\n",
    "\n",
    "seq(5)\n",
    "# c : continue\n",
    "# q : quit\n",
    "# h : help\n",
    "# list  (where exactly the control is)\n",
    "# p : print \n",
    "# p locals() (print local variables)\n",
    "# p globals() (print global variables)"
   ]
  },
  {
   "cell_type": "code",
   "execution_count": null,
   "metadata": {},
   "outputs": [],
   "source": []
  },
  {
   "cell_type": "code",
   "execution_count": null,
   "metadata": {},
   "outputs": [],
   "source": []
  }
 ],
 "metadata": {
  "kernelspec": {
   "display_name": "Python 3",
   "language": "python",
   "name": "python3"
  },
  "language_info": {
   "codemirror_mode": {
    "name": "ipython",
    "version": 3
   },
   "file_extension": ".py",
   "mimetype": "text/x-python",
   "name": "python",
   "nbconvert_exporter": "python",
   "pygments_lexer": "ipython3",
   "version": "3.8.3"
  }
 },
 "nbformat": 4,
 "nbformat_minor": 4
}
